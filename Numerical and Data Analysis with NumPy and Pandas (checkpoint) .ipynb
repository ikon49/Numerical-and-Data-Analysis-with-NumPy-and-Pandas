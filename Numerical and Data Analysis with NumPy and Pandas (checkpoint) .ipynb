{
 "cells": [
  {
   "cell_type": "code",
   "execution_count": null,
   "id": "2ccde3af-d87a-48a5-a3ea-c53e651d32f3",
   "metadata": {},
   "outputs": [],
   "source": [
    "import numpy as np\n",
    "\n",
    "# Function to calculate grade based on percentage\n",
    "def calculate_grade(percentage):\n",
    "    if percentage >= 90:\n",
    "        return 'A+'\n",
    "    elif percentage >= 80:\n",
    "        return 'A'\n",
    "    elif percentage >= 70:\n",
    "        return 'B+'\n",
    "    elif percentage >= 60:\n",
    "        return 'B'\n",
    "    elif percentage >= 50:\n",
    "        return 'C'\n",
    "    else:\n",
    "        return 'F'\n",
    "\n",
    "# Main function to get input and calculate results\n",
    "def main():\n",
    "    # Get number of students and subjects\n",
    "    num_students = int(input(\"Enter the number of students: \"))\n",
    "    num_subjects = int(input(\"Enter the number of subjects: \"))\n",
    "    \n",
    "    # Create array to store marks\n",
    "    marks = np.zeros((num_students, num_subjects))\n",
    "    \n",
    "    # Get marks for each student in each subject\n",
    "    for i in range(num_students):\n",
    "        for j in range(num_subjects):\n",
    "            marks[i, j] = float(input(f\"Enter the marks for student {i+1} in subject {j+1}: \"))\n",
    "    \n",
    "    # Calculate total marks and percentage for each student\n",
    "    total_marks = marks.sum(axis=1)\n",
    "    percentages = (total_marks / (num_subjects * 100)) * 100\n",
    "    \n",
    "    # Calculate grades\n",
    "    grades = np.array([calculate_grade(p) for p in percentages])\n",
    "    \n",
    "    # Display results in tabular format\n",
    "    print(\"\\nResults:\")\n",
    "    print(f\"{'Student':<10} {'Total Marks':<12} {'Percentage':<12} {'Grade':<6}\")\n",
    "    for i in range(num_students):\n",
    "        print(f\"{i+1:<10} {total_marks[i]:<12.2f} {percentages[i]:<12.2f} {grades[i]:<6}\")\n",
    "\n",
    "if __name__ == \"__main__\":\n",
    "    main()\n"
   ]
  },
  {
   "cell_type": "code",
   "execution_count": null,
   "id": "1b042cf4-3904-42e0-86a5-c745d29ba9b8",
   "metadata": {},
   "outputs": [],
   "source": []
  }
 ],
 "metadata": {
  "kernelspec": {
   "display_name": "Python 3 (ipykernel)",
   "language": "python",
   "name": "python3"
  },
  "language_info": {
   "codemirror_mode": {
    "name": "ipython",
    "version": 3
   },
   "file_extension": ".py",
   "mimetype": "text/x-python",
   "name": "python",
   "nbconvert_exporter": "python",
   "pygments_lexer": "ipython3",
   "version": "3.11.7"
  }
 },
 "nbformat": 4,
 "nbformat_minor": 5
}
